{
 "cells": [
  {
   "cell_type": "markdown",
   "metadata": {},
   "source": [
    "## **Procesamiento ETL con Pandas y MongoDB Atlas (Airbnb)**"
   ]
  },
  {
   "cell_type": "markdown",
   "metadata": {},
   "source": [
    "### **💠Parte 1: Extracción de datos**\n",
    "+ Conectar a MongoDB Atlas\n",
    "+ Accede a mongo compass y exporta la base de Airbnb en formato .csv\n",
    "\n",
    "**Pregunta:**\n",
    "¿Cuántos registros tiene la colección \"listingsAndReviews\"?"
   ]
  },
  {
   "cell_type": "code",
   "execution_count": null,
   "metadata": {},
   "outputs": [],
   "source": [
    "import pandas as pd\n",
    "air_bnb = pd.read_csv('sample_airbnb.listingsAndReviews.csv')\n",
    "\n",
    "# Contar los registros de la colección \"listingsAndReviews\": \n",
    "contar_filas = air_bnb.shape\n",
    "print(f\"Número de registros en la colección: {contar_filas[0]}\")"
   ]
  },
  {
   "cell_type": "markdown",
   "metadata": {},
   "source": [
    "### **💠Parte 2: Transformación de datos**"
   ]
  },
  {
   "cell_type": "markdown",
   "metadata": {},
   "source": [
    "+ Se crea una copia del DataFrame original."
   ]
  },
  {
   "cell_type": "code",
   "execution_count": null,
   "metadata": {},
   "outputs": [],
   "source": [
    "air_bnb_v2 = air_bnb.copy()\n",
    "air_bnb_v2.head() "
   ]
  },
  {
   "cell_type": "markdown",
   "metadata": {},
   "source": [
    "+ Elimina las filas donde price o review_scores.review_scores_rating sean nulos."
   ]
  },
  {
   "cell_type": "code",
   "execution_count": null,
   "metadata": {},
   "outputs": [],
   "source": [
    "# Contar nulos en price:\n",
    "nulos_price = air_bnb_v2['price'].isnull().sum()\n",
    "# Contar nulos en reviews:\n",
    "nulos_review = air_bnb_v2['review_scores.review_scores_rating'].isnull().sum()\n",
    "\n",
    "print(f\"Número de campos con valores nulos en 'price': {nulos_price}\")\n",
    "print(f\"Número de campos con valores nulos en 'review': {nulos_review}\")"
   ]
  },
  {
   "cell_type": "code",
   "execution_count": null,
   "metadata": {},
   "outputs": [],
   "source": [
    "# Eliminar filas de campos nulos en 'review'\n",
    "air_bnb_v2 = air_bnb_v2.dropna(subset=['review_scores.review_scores_rating'])\n",
    "\n",
    "nulos_review = air_bnb_v2['review_scores.review_scores_rating'].isnull().sum()\n",
    "print(f\"Número de campos con valores nulos en 'review': {nulos_review}\")"
   ]
  },
  {
   "cell_type": "markdown",
   "metadata": {},
   "source": [
    "+ Convierte price a un tipo de dato numérico (elimina signos de moneda si es necesario)."
   ]
  },
  {
   "cell_type": "code",
   "execution_count": null,
   "metadata": {},
   "outputs": [],
   "source": [
    "# Verificar el tipo de dato de price\n",
    "air_bnb_v2 ['price'].dtype"
   ]
  },
  {
   "cell_type": "code",
   "execution_count": null,
   "metadata": {},
   "outputs": [],
   "source": [
    "# Convertir 'price' a entero\n",
    "air_bnb_v2['price'] = air_bnb_v2 ['price'].astype('int')\n",
    "air_bnb_v2 ['price'].dtype"
   ]
  },
  {
   "cell_type": "markdown",
   "metadata": {},
   "source": [
    "### **💠Parte 3: Análisis de datos**"
   ]
  },
  {
   "cell_type": "markdown",
   "metadata": {},
   "source": [
    "Análisis Exploratorio con Agrupaciones:\n",
    "+ Calcula el precio promedio por tipo de propiedad (property_type)."
   ]
  },
  {
   "cell_type": "code",
   "execution_count": null,
   "metadata": {},
   "outputs": [],
   "source": [
    "agrupacion_propiedad = air_bnb_v2.groupby(\"property_type\")[\"price\"].mean().reset_index()\n",
    "agrupacion_propiedad.head(10).round(2)"
   ]
  },
  {
   "cell_type": "markdown",
   "metadata": {},
   "source": [
    "+ Encuentra el top 5 de tipos de propiedad con mayor cantidad de alojamientos."
   ]
  },
  {
   "cell_type": "code",
   "execution_count": null,
   "metadata": {},
   "outputs": [],
   "source": [
    "top_5_propiedad= air_bnb_v2['property_type'].value_counts().head(5).sort_values(ascending=False)\n",
    "top_5_propiedad"
   ]
  },
  {
   "cell_type": "markdown",
   "metadata": {},
   "source": [
    "**Pregunta:** \n",
    "¿Cuál es el tipo de propiedad más común en la base de datos?\n",
    "+ El tipo más común es: Apartamento"
   ]
  },
  {
   "cell_type": "markdown",
   "metadata": {},
   "source": [
    "### **💠Parte 4: Exportación de datos**\n",
    "+ Guarda el DataFrame final en un archivo CSV llamado \"airbnb_cleaned.csv\"."
   ]
  },
  {
   "cell_type": "code",
   "execution_count": 9,
   "metadata": {},
   "outputs": [],
   "source": [
    "air_bnb_v2.to_csv(\"airbnb_cleaned.csv\", index=False)"
   ]
  }
 ],
 "metadata": {
  "kernelspec": {
   "display_name": "Python 3",
   "language": "python",
   "name": "python3"
  },
  "language_info": {
   "codemirror_mode": {
    "name": "ipython",
    "version": 3
   },
   "file_extension": ".py",
   "mimetype": "text/x-python",
   "name": "python",
   "nbconvert_exporter": "python",
   "pygments_lexer": "ipython3",
   "version": "3.13.2"
  }
 },
 "nbformat": 4,
 "nbformat_minor": 2
}
